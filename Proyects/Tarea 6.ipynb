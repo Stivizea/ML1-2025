{
 "cells": [
  {
   "cell_type": "markdown",
   "metadata": {},
   "source": [
    "# Ejercicio de programacion 1: Regresión lineal\n",
    "\n",
    "## Introducción\n",
    "\n",
    "En este ejericio usted implementará regresión lineal con datos. Antes de comenzar le recomendamos\n",
    "ver los videos, enlaces y notas de clase sobre el tema. Por el momento, lo que neceista\n",
    "para los problemas de este ejercicio es:\n",
    "\n",
    "* Algebra lineal: Problemas de mínimos cuadrados. Ecuaciones normales\n",
    "* Saber obenter el gradiente de una funcion multivariada\n",
    "* Las recursiones para llegar al minimo son del tipo\n",
    "$$ \\theta_k = \\theta_{k-1} - \\alpha \\nabla J(\\theta_{k-1})$$\n",
    "donde $\\theta_k$ es el valor actual, $\\theta_{k-1}$ es el valor previo, $\\alpha$ es el paso\n",
    "(este se explica más abjo, y $J$ es la función objetivo. \n",
    "\n",
    "Recuerde que necesita importar las librería ```numpy``` y ```matplotlib```.\n",
    "\n"
   ]
  },
  {
   "cell_type": "code",
   "execution_count": 1,
   "metadata": {},
   "outputs": [],
   "source": [
    "# para manejar \"paths\"\n",
    "import os\n",
    "import math\n",
    "\n",
    "\n",
    "\n",
    "\n",
    "# numerical analysis library\n",
    "import numpy as np\n",
    "\n",
    "# para hacer plots\n",
    "from matplotlib import pyplot\n",
    "from mpl_toolkits.mplot3d import Axes3D  # needed to plot 3-D surfaces\n",
    "\n",
    "\n",
    "# para incluir los plots dentro del cuaderno y no en ventana separada.\n",
    "%matplotlib inline"
   ]
  },
  {
   "cell_type": "markdown",
   "metadata": {},
   "source": [
    "## Debugging\n",
    "\n",
    "Here are some things to keep in mind throughout this exercise:\n",
    "Tenga en cuenta para este ejercicio\n",
    "\n",
    "- Los indices en Python comienzan en 0\n",
    "\n",
    "- No use listas ni tuplas. User numpy arrays.\n",
    "\n",
    "- Recuerde las dimensiones de las matrices. Python es estricto. Por ejemplo recuerde que en un producto el numero de columnas de la primera matriz debe coincidir con el numero de filas de la segunda.\n"
   ]
  },
  {
   "cell_type": "markdown",
   "metadata": {},
   "source": [
    "<a id=\"section1\"></a>\n",
    "## 1 Simple python and `numpy` function\n",
    "\n",
    "Este es un ejercicio de calentamiento en Python\n",
    "\n",
    "```python\n",
    "A = np.eye(5)\n",
    "```\n",
    "<a id=\"warmUpExercise\"></a>"
   ]
  },
  {
   "cell_type": "code",
   "execution_count": null,
   "metadata": {},
   "outputs": [],
   "source": [
    "def warmUpExercise():\n",
    "    \"\"\"\n",
    "    Ejemplo para calcular la funcion identica. \n",
    "    \n",
    "    Returna\n",
    "    -------\n",
    "    A : array\n",
    "        La matriz identidad  5x5 \n",
    "    \n",
    "    Instructiones\n",
    "    ------------\n",
    "    Returne la matriz identidad   5x5 \n",
    "    \"\"\"    \n",
    "    # ======== YOUR CODE HERE ======\n",
    "    A = np.eye(5)   # modify this line\n",
    "    \n",
    "    # ==============================\n",
    "    return A"
   ]
  },
  {
   "cell_type": "markdown",
   "metadata": {},
   "source": [
    "The previous cell only defines the function `warmUpExercise`. We can now run it by executing the following cell to see its output. You should see output similar to the following:\n",
    "\n",
    "```python\n",
    "array([[ 1.,  0.,  0.,  0.,  0.],\n",
    "       [ 0.,  1.,  0.,  0.,  0.],\n",
    "       [ 0.,  0.,  1.,  0.,  0.],\n",
    "       [ 0.,  0.,  0.,  1.,  0.],\n",
    "       [ 0.,  0.,  0.,  0.,  1.]])\n",
    "```"
   ]
  },
  {
   "cell_type": "code",
   "execution_count": null,
   "metadata": {},
   "outputs": [],
   "source": [
    "warmUpExercise()"
   ]
  },
  {
   "cell_type": "markdown",
   "metadata": {},
   "source": [
    "### 1.1 Como se califica\n",
    "\n",
    "Apenas corra el ejercicio se revisa si corrió correctamente. \n"
   ]
  },
  {
   "cell_type": "markdown",
   "metadata": {},
   "source": [
    "## 2 Regresión lineal en una variable\n",
    "\n",
    "Implemente regresión lineal en una variable para predecir las ganancias de un camión que transporta comida. \n",
    "Supgonga que el CEO de una cadena de restaurantes piensa abrir sedes en ciudades diferentes. La cadena tiene\n",
    "camiones y datos de ganancias y población por ciudad. Usted quiere ayudarle al negocio por medio de los datos\n",
    "para elegir la próxima ciudad de expansión.\n",
    "\n",
    "\n",
    "Los datos se encuentran en el directorio ```Data``` el cual contiene el archivo ```ex1data1.txt``` . \n",
    "La primera columna tiene la población de la ciudad y la segunda las ganancias en múltiplos de 10.000$.\n",
    "Valores negativos indican pérdida. \n",
    "\n",
    "Las siguientes líneas indican como cargar los datos. "
   ]
  },
  {
   "cell_type": "code",
   "execution_count": 2,
   "metadata": {},
   "outputs": [],
   "source": [
    "# Lea datos separados por comas \",\"\n",
    "data = np.loadtxt(os.path.join('Data', 'ex1data1.txt'), delimiter=',')\n",
    "X, y = data[:, 0], data[:, 1]\n",
    "\n",
    "m = y.size  # número de muestras"
   ]
  },
  {
   "cell_type": "markdown",
   "metadata": {},
   "source": [
    "### 2.1 Graficación de los datos\n",
    "\n",
    "Antes de comenzar la tarea es útil entender los datos mediante visualización. Para estos datos usted puede usar un \"scatter plot\" dato que solo posee una cantidad de puntos con coordenadas de ganancia y población. La mayoría de los problemas que encontrás en\n",
    "la práctica son de más de dos dimensiones y no se pueden visualizar con gráficos 2D. Hay muchas librerías en Python para\n",
    "visualizar datos. Por ejemplo [este blog](https://blog.modeanalytics.com/python-data-visualization-libraries/)\n",
    "muestra algunas de las más populares. \n",
    "\n",
    "En este curso nosotros usamos exclusivamente ```matplotlib``` , que es una de las librerías científicas más populares.\n",
    "\n",
    "\n",
    "\n",
    "complete el siguiente código (en la celda a continuación. Algunas líneas se muestran a continuación.\n",
    "\n",
    "```python\n",
    "    pyplot.plot(x, y, 'ro', ms=10, mec='k')\n",
    "    pyplot.ylabel('Profit in $10,000')\n",
    "    pyplot.xlabel('Population of City in 10,000s')\n",
    "```"
   ]
  },
  {
   "cell_type": "code",
   "execution_count": null,
   "metadata": {},
   "outputs": [],
   "source": [
    "def plotData(x, y):\n",
    "    \"\"\"\n",
    "    Se grafican los puntos con coordenadas \"x\" y \"y\". \n",
    "    \n",
    "    \n",
    "    \n",
    "    Parametros\n",
    "    ----------\n",
    "    x : array\n",
    "        coordenadas en el eje x\n",
    "\n",
    "    y : array\n",
    "        coordenadas del eje y\n",
    "        Data point values for y-axis. Note x and y should have the same size.\n",
    "    \n",
    "    Instructions\n",
    "    ------------\n",
    "    Grafique los datos de entrenamiento usando las funciones \"figure\" y \"plot\".\n",
    "    Los ejes deben ser etiquetados como indica la ayuda arriba. Las coordenadas\n",
    "    \"x\" y \"y\" son argumentos de la función, como se indica arriba.\n",
    "    \n",
    "    \n",
    "    Ayuda:\n",
    "    ----\n",
    "    Puede usar la opción de marcadores 'ro' que indica círculos rojos.\n",
    "    Puede controlar el tamaño de los círculos mediante el parámetro ms=10,\n",
    "    donde \"ms\" significa \"marker size\". Usted también puede usar \n",
    "    You can use the 'ro' option with plot to have the markers\n",
    "    appear as red circles. Furthermore, you can make the markers larger by\n",
    "    using plot(..., 'ro', ms=10), where `ms` refers to marker size. You \n",
    "    can also set the marker edge color using the `mec` property.\n",
    "    \"\"\"\n",
    "    fig = pyplot.figure()  # open a new figure\n",
    "    \n",
    "    # ====================== YOUR CODE HERE ======================= \n",
    "    pyplot.plot(x, y, 'ro', ms=10, mec='k')\n",
    "    pyplot.ylabel('Profit in $10,000')\n",
    "    pyplot.xlabel('Population of City in 10,000s')\n",
    "\n",
    "    fig.show()\n",
    "    # =============================================================\n"
   ]
  },
  {
   "cell_type": "markdown",
   "metadata": {},
   "source": [
    "Corra el programa vara visualizar los datos acá. Debe obtener la próxima figura.\n",
    "\n",
    "\n",
    "![](Figures/dataset1.png)\n",
    "\n",
    "Ejecute la próxima instrucción."
   ]
  },
  {
   "cell_type": "code",
   "execution_count": null,
   "metadata": {},
   "outputs": [],
   "source": [
    "plotData(X, y)"
   ]
  },
  {
   "cell_type": "markdown",
   "metadata": {},
   "source": [
    "<a id=\"section2\"></a>\n",
    "### 2.2 Descenso con Gradiente.\n",
    "En esta parte usted debe ajustar una regresión lineal para obtener los parámetros $\\theta$ usando\n",
    "descenso con gradiente.\n",
    "\n",
    "\n",
    "#### 2.2.1 Ecuaciones correspondientes\n",
    "\n",
    "El objeto de la regresión lineal consiste en la minimización de la función de costo\n",
    "$$ J(\\theta) = \\frac{1}{2m} \\sum_{i=1}^m \\left( h_{\\theta}(x^{(i)}) - y^{(i)}\\right)^2$$\n",
    "\n",
    "donde la hipótesis $h_\\theta(x)$ consiste en el modelo lineal\n",
    "$$ h_\\theta(x) = \\theta^Tx = \\theta_0 + \\theta_1 x_1$$\n",
    "\n",
    "Recuerde que sus parámetros don los valores $\\theta_j$. Estos son los\n",
    "valores que minimizan la función de costo $J(\\theta)$. Una forma de hacer esto\n",
    "es mediante el método de descenso de gradiente, donde cada iteración actualiza el \n",
    "valor de $\\theta$.\n",
    "\n",
    "\n",
    "$$ \\theta_j = \\theta_j - \\alpha \\frac{1}{m} \\sum_{i=1}^m \\left( h_\\theta(x^{(i)}) - y^{(i)}\\right)x_j^{(i)} \\qquad \\text{acutalice simultáneamente } \\theta_j \\text{ para todos los } j$$\n",
    "\n",
    "Con cada paso del descenso de gradinte sus parámetros $\\theta_j$ se acercan al valor óptimo que obtiene\n",
    "el valor más bajo de la función de costo J($\\theta$).\n",
    "\n",
    "<div class=\"alert alert-block alert-warning\">\n",
    "**Nota de implementación:** Almacenamos cada fila de la matriz $X$ usando ``ǹumpy```. Tenga en\n",
    "cuenta que el intercepto es ($\\theta_0$), y agregamos una columna adicional a $X$ de unos. Esto\n",
    "nos permite asumir que $\\theta_0$ es un atributo adicional.\n",
    "</div>\n",
    "\n",
    "\n",
    "#### 2.2.2 Implementación\n",
    "\n",
    "Ya tenemos las ecuaciones de la regresión lineal. En la siguiente celda, adicionamos una dimensión más a nuestros datos para acomodar $\\theta_0$ como el término del intercepto. Por favor NO ejecute\n",
    "esta celda más de una vez. \n"
   ]
  },
  {
   "cell_type": "code",
   "execution_count": 3,
   "metadata": {},
   "outputs": [],
   "source": [
    "# Add a column of ones to X. The numpy function stack joins arrays along a given axis. \n",
    "# The first axis (axis=0) refers to rows (training examples) \n",
    "# and second axis (axis=1) refers to columns (features).\n",
    "X = np.stack([np.ones(m), X], axis=1)"
   ]
  },
  {
   "cell_type": "markdown",
   "metadata": {},
   "source": [
    "<a id=\"section2\"></a>\n",
    "#### 2.2.3 Cómputo de la función de costo $J(\\theta)$\n",
    "A medida que desciende con el gradiente se minimiza la función de costo $J(\\theta)$, se debe\n",
    "monitorear la convergencia mediante el cómputo de la función de costo. En esta sección usted\n",
    "implementará una función para calcular $J(\\theta)$ y verificar la convergencia del descenso con gradiente.\n",
    "\n",
    "Su próxima tarea consiste en completar el código de la función ```computeCost```  la cual evalúa\n",
    "$J(\\theta)$. Recuerde que las variables $X$  y $y$ no son valores escalares. $X$ es la matriz, cuyas\n",
    "filas representan las muestras para entrenar el sistema y $y$ es el vector que representa la etiqueta para cada fila de $X$\n",
    "<a id=\"computeCost\"></a>"
   ]
  },
  {
   "cell_type": "code",
   "execution_count": 4,
   "metadata": {},
   "outputs": [],
   "source": [
    "def computeCost(X, y, theta):\n",
    "    \"\"\"\n",
    "    Compute el costo para la regresión lineal usando theta como parámetro.\n",
    "    \n",
    "    Parameters\n",
    "    ----------\n",
    "    X : array\n",
    "        Los datos de entrada con dimensiones (m x n+1), donde m es el número\n",
    "        de muestras y n es el número de atributos (features). Asumioms que el vector\n",
    "        de unos ya fue agregado a la matriz de datos X. Por esto las n+1 columnas.\n",
    "        \n",
    "    y : array\n",
    "        Los valores de las etiquetas para cada muestra de entrada. Es un vector de\n",
    "        dimension m. \n",
    "        \n",
    "    theta : array\n",
    "        Estos son los parámetros de aprendizaje. Es un vector de tamaño n+1.\n",
    "        \n",
    "    Returns\n",
    "    -------\n",
    "    J : float\n",
    "        El valor de costo.\n",
    "    \n",
    "    Instructiones\n",
    "    ------------\n",
    "    Calcule el valor de costo para un valor particular de theta.\n",
    "    Llame J a la función de costo.\n",
    "    \"\"\"\n",
    "    \n",
    "    # inicialice con valores útiles\n",
    "    m = y.size  # número de muestras\n",
    "    \n",
    "    # debe retornar el valor de J correctamente\n",
    "    J = 0\n",
    "    \n",
    "    # ====================== YOUR CODE HERE =====================\n",
    "    #Sabiendo que h=X*theta (producto de matriz con vector), se calcula la hipotesis para cada elemento como. \n",
    "    h = np.dot(X, theta)\n",
    "    #Se programa la funcion de costo como la suma de los errores al cuadrado entre la hipotesis y el valor real, las cuales se calculan para todos los x_i y y_i al mismo tiempo con la funcion np.sum y luego se multiplica este vector por 1/2m ya que es una constante\n",
    "    J = (1/(2 * m)) * np.sum(np.square(h - y))\n",
    "    # ===========================================================\n",
    "    return J"
   ]
  },
  {
   "cell_type": "markdown",
   "metadata": {},
   "source": [
    "Una vez completada la función, debe correr ```computeCost``` dos veces usando\n",
    "dos inicializaciones de $\\theta$. Debe obtener el costo impreso en la pantalla."
   ]
  },
  {
   "cell_type": "code",
   "execution_count": 5,
   "metadata": {},
   "outputs": [
    {
     "name": "stdout",
     "output_type": "stream",
     "text": [
      "Con theta = [0, 0] \n",
      "Costo calculado = 32.07\n",
      "Valor esperado  (aproximadamente) 32.07\n",
      "\n",
      "With theta = [-1, 2]\n",
      "Costo calculado = 54.24\n",
      "Valor esperado aproximadamente) 54.24\n"
     ]
    }
   ],
   "source": [
    "J = computeCost(X, y, theta=np.array([0.0, 0.0]))\n",
    "print('Con theta = [0, 0] \\nCosto calculado = %.2f' % J)\n",
    "print('Valor esperado  (aproximadamente) 32.07\\n')\n",
    "\n",
    "# further testing of the cost function\n",
    "J = computeCost(X, y, theta=np.array([-1, 2]))\n",
    "print('With theta = [-1, 2]\\nCosto calculado = %.2f' % J)\n",
    "print('Valor esperado aproximadamente) 54.24')"
   ]
  },
  {
   "cell_type": "markdown",
   "metadata": {},
   "source": [
    "*use la siguiente celda para verificar sus soluciones*"
   ]
  },
  {
   "cell_type": "code",
   "execution_count": null,
   "metadata": {},
   "outputs": [],
   "source": [
    "J = computeCost(X, y, theta=np.array([0.0, 0.0]))\n",
    "print('Con theta = [0, 0] \\nCosto calculado = %.2f' % J)\n",
    "\n",
    "J = computeCost(X, y, theta=np.array([-1, 2]))\n",
    "print('With theta = [-1, 2]\\nCosto calculado = %.2f' % J)\n"
   ]
  },
  {
   "cell_type": "markdown",
   "metadata": {},
   "source": [
    "<a id=\"section3\"></a>\n",
    "#### 2.2.4 Descenso con Gradiente\n",
    "\n",
    "Ahora usted implementará la función que determina el descenso con gradiente\n",
    "La estructura de ciclo se provee como guía. Usted deberá obtener $\\theta$ para cada iteración.\n",
    "\n",
    "Recuerde que la función de costo $J(\\theta)$ se parametriza con el vector $\\theta$, no con $X$ y tampoco\n",
    "con $y$. Es decir, minimizamos el valor de $J(\\theta)$ cambiando los valores de $\\theta$, no cambiando\n",
    "los valores de $X$ o de $y$. \n",
    "[Refiérase a las ecuaciones en este cuaderno](#section2) y las notas y videos de clase. \n",
    "\n",
    "\n",
    "El código de inicio de la función ```gradientDescent``` llama a ```computeCost``` en cada iteración y\n",
    "guarda el costo en una lista. Asumiendo que implementón la función de descenso ```computeCost``` correctamente,  el valor de $J(\\theta)$ no debería crecer. Debería converger al final del algoritmo.\n",
    "\n",
    "\n",
    "<div class=\"alert alert-box alert-warning\">\n",
    "**Vectors and matrices in `numpy`** - Important implementation notes\n",
    "\n",
    "La multiplicación de matrices en numpy se hace a través de la instrucción ``` np.dot ```.\n",
    "Esta instrucción funciona para producto punto, producto de  matriz por vector o producto de matriz por matriz. \n",
    "    \n",
    "Usted puede convertir un vector fila a matriz columna. Por ejemplo  si  `y = np.array([1, 2, 3])` es un vector fila de tamño 3, entonces`y[:,None]` es una matriz de tamaño $3 \\times 1$.\n",
    "<div>\n",
    "<a id=\"gradientDescent\"></a>"
   ]
  },
  {
   "cell_type": "code",
   "execution_count": 16,
   "metadata": {},
   "outputs": [],
   "source": [
    "def gradientDescent(X, y, theta, alpha, num_iters):\n",
    "    \"\"\"\n",
    "    Este algoritmo usa descenso en gradiente para aprender \"theta\".  Las actualizaciones\n",
    "    de theta se hacen hasta un número de iteraciones `num_iters` con un paso de aprendizaje alpha.\n",
    "    \n",
    "    \n",
    "    Parámetros\n",
    "    ----------\n",
    "    X : array\n",
    "        Los datos de entrada de dimension (m x n+1)\n",
    "    \n",
    "    y : array\n",
    "        Valor con etiquetas, dimension m\n",
    "    \n",
    "    theta : array\n",
    "        Valores iniciales para la regresión. \n",
    "        Tamaño n+1 . \n",
    "        \n",
    "    alpha : float\n",
    "        Paso.\n",
    "    \n",
    "    num_iters : int\n",
    "        Número de iteraciones\n",
    "    \n",
    "    Returna\n",
    "    -------\n",
    "    theta : array\n",
    "        El parámetro aprendido de tamaño n+1\n",
    "    \n",
    "    J_historia: list\n",
    "        Lista en Python con los valores de J.\n",
    "    \n",
    "    Instrucciones\n",
    "    ------------\n",
    "    Ejecuta un paso de gradiente en el vector theta.\n",
    "\n",
    "    Es conveniente, para hacer debuggging, imprimir los valores de la función de costo.\n",
    "    \n",
    "    \"\"\"\n",
    "    # Inicialice valroes\n",
    "    m = y.shape[0]  # número de muestras de entrenamiento\n",
    "    \n",
    "    # copie el vector theta\n",
    "    theta = theta.copy()\n",
    "    \n",
    "    \n",
    "    J_history = [] # Esta lista es conveniente para ver la historia de valores de J.\n",
    "    theta_history=[]\n",
    "    for i in range(num_iters):\n",
    "        # ==================== YOUR CODE HERE =================================\n",
    "        #Sabiendo que h=X*theta (producto de matriz con vector), se calcula la hipotesis para cada elemento como.\n",
    "        h = np.dot(X, theta)\n",
    "        #Derivando, sabemos que el gradiente de la funcion de costo es, es (1/m)*(h_theta(x^(i)-y^i)x^(i)j, para calcular todos los j en una sola iteracion, podemos ver que el x_j en la fila i es \n",
    "        #igual al x_i en la columna J, por lo que podemos transponer la matriz X y multiplicar por el vector de errores (h-y). Para obtener el gradiente de todos los j.\n",
    "        theta = theta - alpha * (1/m) * np.dot(X.T, (h-y))\n",
    "        theta_history.append(theta)\n",
    "        #El nuevo theta es el viejo menos el gradiente, multiplicado por alpha.\n",
    "        # =====================================================================\n",
    "        \n",
    "        # Salve el valor de J en cada iteración.\n",
    "        J_history.append(computeCost(X, y, theta))\n",
    "        \n",
    "    return theta, J_history, theta_history"
   ]
  },
  {
   "cell_type": "markdown",
   "metadata": {},
   "source": [
    "Luego de que acabe con la implementación de `gradientDescent` imprima el valor de $\\theta$. \n",
    "Inicializamos $\\theta$ en 0 y el parámetro de paso en $0.01$. Ejecute la siguiente celda para\n",
    "verificar su código. "
   ]
  },
  {
   "cell_type": "code",
   "execution_count": 17,
   "metadata": {},
   "outputs": [
    {
     "name": "stdout",
     "output_type": "stream",
     "text": [
      "Theta found by gradient descent: -3.6303, 1.1664\n",
      "Expected theta values (approximately): [-3.6303, 1.1664]\n"
     ]
    }
   ],
   "source": [
    "# inicialice paráemtros\n",
    "theta = np.zeros(2)\n",
    "\n",
    "# parámetros de gradiente\n",
    "iterations = 1500\n",
    "alpha = 0.01\n",
    "\n",
    "theta, J_history,theta_history = gradientDescent(X ,y, theta, alpha, iterations)\n",
    "\n",
    "print('Theta found by gradient descent: {:.4f}, {:.4f}'.format(*theta))\n",
    "print('Expected theta values (approximately): [-3.6303, 1.1664]')"
   ]
  },
  {
   "cell_type": "markdown",
   "metadata": {},
   "source": [
    "We will use your final parameters to plot the linear fit. The results should look like the following figure.\n",
    "\n",
    "![](Figures/regression_result.png)"
   ]
  },
  {
   "cell_type": "code",
   "execution_count": null,
   "metadata": {},
   "outputs": [],
   "source": [
    "# grafique la linea de regresión\n",
    "plotData(X[:, 1], y)\n",
    "pyplot.plot(X[:, 1], np.dot(X, theta), '-')\n",
    "pyplot.legend(['Training data', 'Linear regression']);"
   ]
  },
  {
   "cell_type": "markdown",
   "metadata": {},
   "source": [
    "Los valores finales de $\\theta$ serán usados para hacer predicciones sobre las ganancias en áreas de 35,000 y 70,000 personas.\n",
    "\n",
    "\n",
    "<div class=\"alert alert-block alert-success\">\n",
    "Note la forma, en las líneas siguientes, como usamos la multiplicación de matrices en vez de sumas y ciclos para predecir. Este es un ejemplo de vectorización de código en ```numpy``` .\n",
    "\n",
    "</div>\n",
    "\n",
    "<div class=\"alert alert-block alert-success\">\n",
    "Note que el primer argumento de la función de ```numpy```,   ```dot``` es una lista. ```numpy``` puede convertir internamente listas **validas** a arrays cuando se llaman con functiones ```numpy```.\n",
    "</div>\n"
   ]
  },
  {
   "cell_type": "markdown",
   "metadata": {},
   "source": [
    "*muestre sus soluciones en la próxima celda *"
   ]
  },
  {
   "cell_type": "code",
   "execution_count": null,
   "metadata": {},
   "outputs": [],
   "source": [
    "#Predicciones para poblaciones de tamaños   35,000 y 70,000\n",
    "predict1 = np.dot([1, 3.5], theta)\n",
    "print('Para una población de tamaño = 35,000, se predice una ganancia de {:.2f}\\n'.format(predict1*10000))\n",
    "\n",
    "predict2 = np.dot([1, 7], theta)\n",
    "print('Para una población de tamaño = 70,000, se predice una ganancia def {:.2f}\\n'.format(predict2*10000))"
   ]
  },
  {
   "cell_type": "markdown",
   "metadata": {},
   "source": [
    "### 2.4 Visualización de $J(\\theta)$\n",
    "\n",
    "Para entender la función de costo $J(\\theta)$ es mejor graficar ésta en una malla 2D, con valores\n",
    "$\\theta_0$ y $\\theta_1$. Usted no necesita escribir código para esta parte, pero debe entender\n",
    "como su código ayuda a crear estas imágenes. \n",
    "\n",
    "En la próxima celda, el código está diseñano para calcular $J(\\theta)$ sobre una malla de valores\n",
    "usando la función ```computeCost``` que escribió arriba. Luego de ejecutar la celda, debe tener una\n",
    "malla 2D con valores de $J(\\theta)$. Estos valores producen una superficie y contornos de $J(\\theta)$ mediante el uso de ```plot_surface``` y ```contourf``` . Los gráficos deben lucir como las siguientes figuras:\n",
    "\n",
    "![](Figures/cost_function.png)\n",
    "\n",
    "El propósito de estas gráficas es mostrar como el $J(\\theta)$ varía con cambios en $\\theta_0$ y $\\theta_1$. El costo $J(\\theta)$ es una superficie en forma de taza con un mínimo global. (Esto es más fácil de ver en el gráfico de contorno que en la superfície 3D).  El mínimo es el punto óptimo para $\\theta_0$ y $\\theta_1$, y cada paso de descenso de gradiente se mueve más cerca a éste punto. "
   ]
  },
  {
   "cell_type": "code",
   "execution_count": null,
   "metadata": {},
   "outputs": [],
   "source": [
    "from platform import python_version\n",
    "python_version()"
   ]
  },
  {
   "cell_type": "code",
   "execution_count": null,
   "metadata": {},
   "outputs": [],
   "source": []
  },
  {
   "cell_type": "markdown",
   "metadata": {},
   "source": [
    "## Ecuaciones normales"
   ]
  },
  {
   "cell_type": "markdown",
   "metadata": {},
   "source": [
    "<a id=\"gradientDescentMulti\"></a>"
   ]
  },
  {
   "cell_type": "markdown",
   "metadata": {},
   "source": [
    "<a id=\"section7\"></a>\n",
    "### 3.1 \n",
    "\n",
    "En clase se aprendio una forma cerrada de la solución al problema de regresión lineal.\n",
    "\n",
    "$$ \\theta = \\left( X^T X\\right)^{-1} X^T\\vec{y}$$\n",
    "\n",
    "Inicialmente volvemos a cargar los datos. Aca ayudamos un poco con código para cargar los datos y agregar unos a la matriz $X$. Si observa los datos se dará cuenta que ya son 3D, (tres columnas). O sea que es regresión multivariada."
   ]
  },
  {
   "cell_type": "code",
   "execution_count": null,
   "metadata": {},
   "outputs": [],
   "source": [
    "# Load data\n",
    "data = np.loadtxt(os.path.join('Data', 'ex1data2.txt'), delimiter=',')\n",
    "X = data[:, :2]\n",
    "y = data[:, 2]\n",
    "m = y.size\n",
    "X = np.concatenate([np.ones((m, 1)), X], axis=1)"
   ]
  },
  {
   "cell_type": "markdown",
   "metadata": {},
   "source": [
    "Complete el código para la función ```normalEqn``` en la celda siguiente para hallar $\\theta$.\n",
    "\n",
    "<a id=\"normalEqn\"></a>"
   ]
  },
  {
   "cell_type": "code",
   "execution_count": null,
   "metadata": {},
   "outputs": [],
   "source": [
    "def normalEqn(X, y):\n",
    "    \"\"\"\n",
    "    Calcula la solución en forma cerrada del problema de regresión lineal usando las ecuaciones normales\n",
    "    \n",
    "    Parámetros\n",
    "    ----------\n",
    "    X : array\n",
    "        Los datos de entrada de tamaño m x n+1\n",
    "    \n",
    "    y : array\n",
    "        El valor de las etiquetas. Tamaño m\n",
    "    \n",
    "    Retorna\n",
    "    -------\n",
    "    theta : array\n",
    "        Valor estimado del vector de regresion theta de dimensión n+1-\n",
    "    \n",
    "    Instrucciones\n",
    "    ------------\n",
    "    Complete el código para estimar theta de la solución cerrada.\n",
    "   \n",
    "    \n",
    "    Ayuda\n",
    "    ----\n",
    "    No use la pseudoinversa pero puede consultar el mandual de\n",
    "    `np.linalg.pinv`.\n",
    "    \"\"\"\n",
    "    theta = np.zeros(X.shape[1])\n",
    "    \n",
    "    # ===================== YOUR CODE HERE ============================\n",
    "    #Se programa el metodo de las ecuacionesnormales utilizando np.linalg para invertir la matriz X.T*X\n",
    "    theta = np.dot(np.dot(np.linalg.inv(np.dot(X.T,X)),X.T),y)\n",
    "    # =================================================================\n",
    "    return theta"
   ]
  },
  {
   "cell_type": "markdown",
   "metadata": {},
   "source": [
    "*sus soluciones en la próxima celda*"
   ]
  },
  {
   "cell_type": "code",
   "execution_count": null,
   "metadata": {},
   "outputs": [],
   "source": [
    "#se calcula theta con el metodo de las ecuaciones normales y se compara con los valores de referencia y los resultados obtenidos con el gradient descent\n",
    "\n",
    "theta = normalEqn(X,y)\n",
    "print('Theta encontrado con el metodo de las ecuaciones normales: {:s}'.format(str(theta)))"
   ]
  },
  {
   "cell_type": "markdown",
   "metadata": {},
   "source": [
    "Una vez encuentre theta, úselo para predecir el precio de una casa\n",
    "de 1650 pies cuadrados con 3 dormitorios. "
   ]
  },
  {
   "cell_type": "code",
   "execution_count": null,
   "metadata": {},
   "outputs": [],
   "source": [
    "# Calcule los parámetros usando ecuaciones normales. \n",
    "theta = normalEqn(X, y);\n",
    "\n",
    "# muestre el resultado\n",
    "print('Theta de las ecuaciones normales: {:s}'.format(str(theta)));\n",
    "\n",
    "# Estime el precio  de una casa con   1650 sq-ft y 3 dormitorios\n",
    "# ====================== YOUR CODE HERE ======================\n",
    "\n",
    "price = np.dot([1, 1650,3], theta)\n",
    "#Se estima el precio de una casa de 1650 sq-ft y 3 dormitorios, usando las ecuaciones normales.\n",
    "# Se usa el producto punto entre el vector theta y el vector de entrada [1,1650,3], que representa la casa.\n",
    "# ============================================================\n",
    "\n",
    "print('Precio predicho de una casa de 1650 sq-ft, 3 dormitorios (usando ecuaciones normales): ${:.0f}'.format(price))"
   ]
  }
 ],
 "metadata": {
  "kernelspec": {
   "display_name": "Python 3",
   "language": "python",
   "name": "python3"
  },
  "language_info": {
   "codemirror_mode": {
    "name": "ipython",
    "version": 3
   },
   "file_extension": ".py",
   "mimetype": "text/x-python",
   "name": "python",
   "nbconvert_exporter": "python",
   "pygments_lexer": "ipython3",
   "version": "3.11.9"
  }
 },
 "nbformat": 4,
 "nbformat_minor": 4
}
